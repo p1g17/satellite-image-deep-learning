{
  "nbformat": 4,
  "nbformat_minor": 0,
  "metadata": {
    "colab": {
      "name": "ProcessData.ipynb",
      "provenance": [],
      "mount_file_id": "1hPDQ1nd9xRa4jnYv-tr3NtgSPNs_9oOI",
      "authorship_tag": "ABX9TyPKyrdkbXn75LN7JxHdGIpv",
      "include_colab_link": true
    },
    "kernelspec": {
      "name": "python3",
      "display_name": "Python 3"
    },
    "language_info": {
      "name": "python"
    }
  },
  "cells": [
    {
      "cell_type": "markdown",
      "metadata": {
        "id": "view-in-github",
        "colab_type": "text"
      },
      "source": [
        "<a href=\"https://colab.research.google.com/github/p1g17/satellite-image-deep-learning/blob/master/ProcessData.ipynb\" target=\"_parent\"><img src=\"https://colab.research.google.com/assets/colab-badge.svg\" alt=\"Open In Colab\"/></a>"
      ]
    },
    {
      "cell_type": "code",
      "metadata": {
        "id": "xfCaKNlxVU-D"
      },
      "source": [
        "# !pip install geopandas"
      ],
      "execution_count": null,
      "outputs": []
    },
    {
      "cell_type": "code",
      "metadata": {
        "id": "7Rkn4oS2ViTZ"
      },
      "source": [
        "import geopandas as gd\n",
        "import pandas as pd\n",
        "import glob\n",
        "import multiprocessing as mp\n",
        "from datetime import datetime\n",
        "import os"
      ],
      "execution_count": null,
      "outputs": []
    },
    {
      "cell_type": "code",
      "metadata": {
        "id": "cilHzmhsVwmS"
      },
      "source": [
        "data_dir = '/content/drive/MyDrive/meghalaya/'"
      ],
      "execution_count": null,
      "outputs": []
    },
    {
      "cell_type": "code",
      "metadata": {
        "id": "kx_4GN2UVg6b"
      },
      "source": [
        "file_list = glob.glob(data_dir+'*.geojson')"
      ],
      "execution_count": null,
      "outputs": []
    },
    {
      "cell_type": "code",
      "metadata": {
        "id": "53tFRTCuWIbm"
      },
      "source": [
        "df_list = []\n",
        "for file in file_list:\n",
        "  df_list.append(gd.read_file(file))\n",
        "results = pd.concat(df_list)"
      ],
      "execution_count": null,
      "outputs": []
    },
    {
      "cell_type": "code",
      "metadata": {
        "id": "SwxrhXnwZIEZ"
      },
      "source": [
        "output_dir = '/content/drive/MyDrive/LULC_CSV_FORMAT/'\n",
        "results.to_csv(output_dir+'LULC_MGH.csv')"
      ],
      "execution_count": null,
      "outputs": []
    },
    {
      "cell_type": "code",
      "metadata": {
        "id": "CjMbqhYta6CQ"
      },
      "source": [
        "output_dir = '/content/drive/MyDrive/LULC_SHAPE_MGH/'\n",
        "gd_df = gd.GeoDataFrame(results,geometry='geometry')\n",
        "\n"
      ],
      "execution_count": 28,
      "outputs": []
    },
    {
      "cell_type": "code",
      "metadata": {
        "id": "B_s6cpnjcD5S"
      },
      "source": [
        "# type(gd_df)\n",
        "# gd_df.to_file(output_dir+'LULC_MGH.shp')\n",
        "gd_df = gd_df[gd_df['geometry'].apply(lambda x : x.type=='Polygon' )]\n"
      ],
      "execution_count": 29,
      "outputs": []
    },
    {
      "cell_type": "code",
      "metadata": {
        "id": "b3LPiT0giRGM"
      },
      "source": [
        "gd_df.to_file(output_dir+'LULC_MGH.shp')"
      ],
      "execution_count": null,
      "outputs": []
    }
  ]
}