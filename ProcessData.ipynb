{
  "nbformat": 4,
  "nbformat_minor": 0,
  "metadata": {
    "colab": {
      "name": "ProcessData.ipynb",
      "provenance": [],
      "mount_file_id": "1hPDQ1nd9xRa4jnYv-tr3NtgSPNs_9oOI",
      "authorship_tag": "ABX9TyOcvCOZIQo/kwin+s9vhK62",
      "include_colab_link": true
    },
    "kernelspec": {
      "name": "python3",
      "display_name": "Python 3"
    },
    "language_info": {
      "name": "python"
    }
  },
  "cells": [
    {
      "cell_type": "markdown",
      "metadata": {
        "id": "view-in-github",
        "colab_type": "text"
      },
      "source": [
        "<a href=\"https://colab.research.google.com/github/p1g17/satellite-image-deep-learning/blob/master/ProcessData.ipynb\" target=\"_parent\"><img src=\"https://colab.research.google.com/assets/colab-badge.svg\" alt=\"Open In Colab\"/></a>"
      ]
    },
    {
      "cell_type": "code",
      "metadata": {
        "id": "xfCaKNlxVU-D"
      },
      "source": [
        "# !pip install geopandas"
      ],
      "execution_count": 2,
      "outputs": []
    },
    {
      "cell_type": "code",
      "metadata": {
        "id": "7Rkn4oS2ViTZ"
      },
      "source": [
        "import geopandas as gd\n",
        "import pandas as pd\n",
        "import glob\n",
        "import multiprocessing as mp\n",
        "from datetime import datetime\n",
        "import os"
      ],
      "execution_count": 3,
      "outputs": []
    },
    {
      "cell_type": "code",
      "metadata": {
        "id": "cilHzmhsVwmS"
      },
      "source": [
        "data_dir = '/content/drive/MyDrive/meghalaya/'"
      ],
      "execution_count": 4,
      "outputs": []
    },
    {
      "cell_type": "code",
      "metadata": {
        "id": "kx_4GN2UVg6b"
      },
      "source": [
        "file_list = glob.glob(data_dir+'*.geojson')"
      ],
      "execution_count": 5,
      "outputs": []
    },
    {
      "cell_type": "code",
      "metadata": {
        "colab": {
          "base_uri": "https://localhost:8080/",
          "height": 35
        },
        "id": "UHP88Atlwfek",
        "outputId": "dbc6d34b-aa5b-4255-b3a6-b3ec6370688e"
      },
      "source": [
        "file_list[0]"
      ],
      "execution_count": 6,
      "outputs": [
        {
          "output_type": "execute_result",
          "data": {
            "application/vnd.google.colaboratory.intrinsic+json": {
              "type": "string"
            },
            "text/plain": [
              "'/content/drive/MyDrive/meghalaya/0_Meghalaya_LULC.geojson'"
            ]
          },
          "metadata": {
            "tags": []
          },
          "execution_count": 6
        }
      ]
    },
    {
      "cell_type": "code",
      "metadata": {
        "id": "B9l4YYBH3vH-"
      },
      "source": [
        "def customApplyFunc(geometry):\n",
        "  if geometry.type=='GeometryCollection':\n",
        "    for geo in list(geometry):\n",
        "      if geo.type=='Polygon':\n",
        "        return geo\n",
        "  else:\n",
        "    return geometry"
      ],
      "execution_count": 7,
      "outputs": []
    },
    {
      "cell_type": "code",
      "metadata": {
        "id": "53tFRTCuWIbm"
      },
      "source": [
        "df_list = []\n",
        "for file in file_list:\n",
        "  df_gd = gd.read_file(file)\n",
        "  df_gd['geometry'] =  df_gd['geometry'].apply(customApplyFunc )\n",
        "  df_list.append(df_gd)\n",
        "results = pd.concat(df_list)"
      ],
      "execution_count": null,
      "outputs": []
    },
    {
      "cell_type": "code",
      "metadata": {
        "id": "SwxrhXnwZIEZ"
      },
      "source": [
        "# output_dir = '/content/drive/MyDrive/LULC_CSV_FORMAT/'\n",
        "# results.to_csv(output_dir+'LULC_MGH.csv')"
      ],
      "execution_count": 85,
      "outputs": []
    },
    {
      "cell_type": "code",
      "metadata": {
        "id": "CjMbqhYta6CQ"
      },
      "source": [
        "# output_dir = '/content/drive/MyDrive/LULC_SHAPE_MGH/'\n",
        "# gd_df = gd.GeoDataFrame(results,geometry='geometry')\n",
        "\n"
      ],
      "execution_count": 86,
      "outputs": []
    }
  ]
}